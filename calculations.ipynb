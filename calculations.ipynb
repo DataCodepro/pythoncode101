{
 "cells": [
  {
   "cell_type": "code",
   "execution_count": 2,
   "metadata": {},
   "outputs": [
    {
     "name": "stdout",
     "output_type": "stream",
     "text": [
      "28 + 85 = 113\n",
      "72 + 64 = 136\n",
      "97 + 11 = 108\n",
      "41 + 83 = 124\n",
      "42 + 88 = 130\n",
      "The time you used in aswering five questions is 30 seconds and your score is 25\n"
     ]
    }
   ],
   "source": [
    "import random\n",
    "import datetime\n",
    "scorelist = []\n",
    "timelist = []\n",
    "counter  = 1\n",
    "\n",
    "\n",
    "\n",
    "while counter <=5:\n",
    "    num1 = random.randint(10,99)\n",
    "    num2 = random.randint(10,99)\n",
    "    start = datetime.datetime.now()\n",
    "    answer = int(input(f'{num1} + {num2} = '))\n",
    "    stop = datetime.datetime.now()\n",
    "    \n",
    "    \n",
    "    if answer == sum([num1,num2]):\n",
    "        scorelist.append(5)\n",
    "    else:\n",
    "        scorelist.append(0)\n",
    "    diff = stop - start\n",
    "    timelist.append(diff.seconds)\n",
    "    counter +=1\n",
    "totalscore = sum(scorelist)\n",
    "totaltime = sum(timelist)\n",
    "print(f'The time you used in aswering five questions is {totaltime} seconds and your score is {totalscore}')"
   ]
  },
  {
   "cell_type": "code",
   "execution_count": null,
   "metadata": {},
   "outputs": [],
   "source": []
  }
 ],
 "metadata": {
  "kernelspec": {
   "display_name": "Python 3",
   "language": "python",
   "name": "python3"
  },
  "language_info": {
   "codemirror_mode": {
    "name": "ipython",
    "version": 3
   },
   "file_extension": ".py",
   "mimetype": "text/x-python",
   "name": "python",
   "nbconvert_exporter": "python",
   "pygments_lexer": "ipython3",
   "version": "3.8.5"
  }
 },
 "nbformat": 4,
 "nbformat_minor": 4
}
